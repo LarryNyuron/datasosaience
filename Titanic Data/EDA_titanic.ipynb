{
 "cells": [
  {
   "cell_type": "code",
   "execution_count": 1,
   "metadata": {},
   "outputs": [],
   "source": [
    "import pandas as pd\n",
    "import numpy as np\n",
    "import seaborn as sns\n",
    "import matplotlib.pyplot as plt\n",
    "import plotly.express as px\n",
    "import missingno as msno\n",
    "import warnings\n",
    "warnings.filterwarnings(\"ignore\")\n",
    "\n",
    "from sklearn.preprocessing import LabelEncoder"
   ]
  },
  {
   "cell_type": "code",
   "execution_count": 2,
   "metadata": {},
   "outputs": [],
   "source": [
    "train = pd.read_csv('train.csv')\n",
    "test = pd.read_csv('test.csv')\n",
    "submission = pd.read_csv('gender_submission.csv')"
   ]
  },
  {
   "cell_type": "code",
   "execution_count": 3,
   "metadata": {},
   "outputs": [],
   "source": [
    "def fill_age(cols):\n",
    "    Age = cols[0]\n",
    "    Pclass = cols[1]\n",
    "    \n",
    "    if pd.isnull(Age):\n",
    "        if Pclass == 1:\n",
    "            return 37\n",
    "        \n",
    "        if Pclass == 2:\n",
    "            return 29\n",
    "            \n",
    "        if Pclass == 3:\n",
    "            return 2\n",
    "    else:\n",
    "        return Age\n",
    "\n",
    "train[\"Age\"]= train[[\"Age\",\"Pclass\"]].apply(fill_age,axis =1)\n",
    "test[\"Age\"]= test[[\"Age\",\"Pclass\"]].apply(fill_age,axis =1)"
   ]
  },
  {
   "cell_type": "code",
   "execution_count": 4,
   "metadata": {},
   "outputs": [],
   "source": [
    "train[\"Sex\"]=pd.get_dummies(train[\"Sex\"],drop_first=True)\n",
    "test[\"Sex\"]=pd.get_dummies(test[\"Sex\"],drop_first=True)\n",
    "\n",
    "embarked_train=pd.get_dummies(train[\"Embarked\"],drop_first=True)\n",
    "embarked_test=pd.get_dummies(test[\"Embarked\"],drop_first=True)\n",
    "\n",
    "train=pd.concat([train,embarked_train],axis=1)\n",
    "test=pd.concat([test,embarked_test],axis=1)\n",
    "\n",
    "train.drop([\"Embarked\",\"PassengerId\",\"Name\",\"Ticket\",\"Cabin\"],axis=1,inplace=True)\n",
    "test.drop([\"Embarked\",\"PassengerId\",\"Name\",\"Ticket\",\"Cabin\"],axis=1,inplace=True)"
   ]
  },
  {
   "cell_type": "code",
   "execution_count": 5,
   "metadata": {},
   "outputs": [
    {
     "name": "stdout",
     "output_type": "stream",
     "text": [
      "              precision    recall  f1-score   support\n",
      "\n",
      "           0       0.80      0.87      0.83       134\n",
      "           1       0.77      0.67      0.72        89\n",
      "\n",
      "    accuracy                           0.79       223\n",
      "   macro avg       0.78      0.77      0.78       223\n",
      "weighted avg       0.79      0.79      0.79       223\n",
      "\n"
     ]
    }
   ],
   "source": [
    "from sklearn.preprocessing import StandardScaler\n",
    "from sklearn.model_selection import train_test_split\n",
    "from sklearn.linear_model import LinearRegression\n",
    "from sklearn.metrics import classification_report\n",
    "\n",
    "scaler = StandardScaler()\n",
    "scaler.fit(train)\n",
    "\n",
    "scaled_data = scaler.transform(train)\n",
    "scaled_train = pd.DataFrame(scaled_data)\n",
    "\n",
    "#Building Machine Learning Algorithm\n",
    "#droping survived column from the data set\n",
    "x = train.drop(\"Survived\",axis=1)\n",
    "y = train[\"Survived\"]\n",
    "\n",
    "# spliting data into training and testing data\n",
    "x_train,x_test,y_train,y_test = train_test_split(x,y,test_size=0.25)\n",
    "\n",
    "#creating machine learning Logistic Regression model\n",
    "lir = LinearRegression()\n",
    "lir.fit(x_train,y_train)\n",
    "LinearRegression()\n",
    "\n",
    "pred = lir.predict(x_test)\n",
    "pred = pred.round()\n",
    "print(classification_report(y_test,pred))"
   ]
  },
  {
   "cell_type": "code",
   "execution_count": 6,
   "metadata": {},
   "outputs": [
    {
     "name": "stdout",
     "output_type": "stream",
     "text": [
      "              precision    recall  f1-score   support\n",
      "\n",
      "           0       0.78      0.86      0.82       138\n",
      "           1       0.73      0.61      0.67        85\n",
      "\n",
      "    accuracy                           0.77       223\n",
      "   macro avg       0.76      0.74      0.74       223\n",
      "weighted avg       0.76      0.77      0.76       223\n",
      "\n"
     ]
    }
   ],
   "source": [
    "from sklearn.model_selection import train_test_split\n",
    "from sklearn.linear_model import LogisticRegression\n",
    "from sklearn.metrics import classification_report\n",
    "\n",
    "x_train,x_test,y_train,y_test = train_test_split(x,y,test_size=0.25)\n",
    "\n",
    "#creating machine learning Logistic Regression model\n",
    "model = LogisticRegression()\n",
    "\n",
    "#fitting data in our model\n",
    "model.fit(x_train,y_train)\n",
    "\n",
    "#predicating x_test value which we seperated during train_test_split()\n",
    "pred=model.predict(x_test)\n",
    "pred=model.predict(x_test)\n",
    "print(classification_report(y_test,pred))"
   ]
  },
  {
   "cell_type": "code",
   "execution_count": 8,
   "metadata": {},
   "outputs": [],
   "source": [
    "test.isnull().sum()\n",
    "test.fillna(14.4, inplace=True)\n",
    "predict = model.predict(test)\n",
    "submission['Survived']= predict"
   ]
  },
  {
   "cell_type": "code",
   "execution_count": 9,
   "metadata": {},
   "outputs": [],
   "source": [
    "submission.to_csv('submission.csv', index=False)"
   ]
  }
 ],
 "metadata": {
  "kernelspec": {
   "display_name": "Python 3",
   "language": "python",
   "name": "python3"
  },
  "language_info": {
   "codemirror_mode": {
    "name": "ipython",
    "version": 3
   },
   "file_extension": ".py",
   "mimetype": "text/x-python",
   "name": "python",
   "nbconvert_exporter": "python",
   "pygments_lexer": "ipython3",
   "version": "3.10.4"
  },
  "orig_nbformat": 4
 },
 "nbformat": 4,
 "nbformat_minor": 2
}
